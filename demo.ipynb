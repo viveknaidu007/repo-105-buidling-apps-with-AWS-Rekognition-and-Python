{
 "cells": [
  {
   "cell_type": "code",
   "execution_count": null,
   "metadata": {},
   "outputs": [],
   "source": [
    "#for face details image detection demo code"
   ]
  },
  {
   "cell_type": "code",
   "execution_count": 4,
   "metadata": {},
   "outputs": [
    {
     "name": "stdout",
     "output_type": "stream",
     "text": [
      "{'statusCode': 200, 'body': '[\\n  {\\n    \"BoundingBox\": {\\n      \"Width\": 0.13570548593997955,\\n      \"Height\": 0.2848905026912689,\\n      \"Left\": 0.5705401301383972,\\n      \"Top\": 0.12977907061576843\\n    },\\n    \"AgeRange\": {\\n      \"Low\": 23,\\n      \"High\": 31\\n    },\\n    \"Smile\": {\\n      \"Value\": true,\\n      \"Confidence\": 99.96839141845703\\n    },\\n    \"Eyeglasses\": {\\n      \"Value\": false,\\n      \"Confidence\": 99.99969482421875\\n    },\\n    \"Sunglasses\": {\\n      \"Value\": false,\\n      \"Confidence\": 99.99990844726562\\n    },\\n    \"Gender\": {\\n      \"Value\": \"Male\",\\n      \"Confidence\": 99.99840545654297\\n    },\\n    \"Beard\": {\\n      \"Value\": true,\\n      \"Confidence\": 80.55794525146484\\n    },\\n    \"Mustache\": {\\n      \"Value\": false,\\n      \"Confidence\": 99.64472961425781\\n    },\\n    \"EyesOpen\": {\\n      \"Value\": true,\\n      \"Confidence\": 98.44855499267578\\n    },\\n    \"MouthOpen\": {\\n      \"Value\": true,\\n      \"Confidence\": 96.39237976074219\\n    },\\n    \"Emotions\": [\\n      {\\n        \"Type\": \"HAPPY\",\\n        \"Confidence\": 100.0\\n      },\\n      {\\n        \"Type\": \"CALM\",\\n        \"Confidence\": 5.9604644775390625e-05\\n      },\\n      {\\n        \"Type\": \"CONFUSED\",\\n        \"Confidence\": 4.76837158203125e-05\\n      },\\n      {\\n        \"Type\": \"ANGRY\",\\n        \"Confidence\": 0.0\\n      },\\n      {\\n        \"Type\": \"DISGUSTED\",\\n        \"Confidence\": 0.0\\n      },\\n      {\\n        \"Type\": \"FEAR\",\\n        \"Confidence\": 0.0\\n      },\\n      {\\n        \"Type\": \"SAD\",\\n        \"Confidence\": 0.0\\n      },\\n      {\\n        \"Type\": \"SURPRISED\",\\n        \"Confidence\": 0.0\\n      }\\n    ],\\n    \"Landmarks\": [\\n      {\\n        \"Type\": \"eyeLeft\",\\n        \"X\": 0.6032518148422241,\\n        \"Y\": 0.2326071709394455\\n      },\\n      {\\n        \"Type\": \"eyeRight\",\\n        \"X\": 0.6638826727867126,\\n        \"Y\": 0.24335725605487823\\n      },\\n      {\\n        \"Type\": \"mouthLeft\",\\n        \"X\": 0.6015233993530273,\\n        \"Y\": 0.3302260637283325\\n      },\\n      {\\n        \"Type\": \"mouthRight\",\\n        \"X\": 0.6521133184432983,\\n        \"Y\": 0.33930718898773193\\n      },\\n      {\\n        \"Type\": \"nose\",\\n        \"X\": 0.6255262494087219,\\n        \"Y\": 0.28798094391822815\\n      },\\n      {\\n        \"Type\": \"leftEyeBrowLeft\",\\n        \"X\": 0.5837144255638123,\\n        \"Y\": 0.20662154257297516\\n      },\\n      {\\n        \"Type\": \"leftEyeBrowRight\",\\n        \"X\": 0.6162998676300049,\\n        \"Y\": 0.20533423125743866\\n      },\\n      {\\n        \"Type\": \"leftEyeBrowUp\",\\n        \"X\": 0.5999186635017395,\\n        \"Y\": 0.1974632740020752\\n      },\\n      {\\n        \"Type\": \"rightEyeBrowLeft\",\\n        \"X\": 0.6509290933609009,\\n        \"Y\": 0.21128737926483154\\n      },\\n      {\\n        \"Type\": \"rightEyeBrowRight\",\\n        \"X\": 0.6888976693153381,\\n        \"Y\": 0.22498808801174164\\n      },\\n      {\\n        \"Type\": \"rightEyeBrowUp\",\\n        \"X\": 0.6696493625640869,\\n        \"Y\": 0.20951849222183228\\n      },\\n      {\\n        \"Type\": \"leftEyeLeft\",\\n        \"X\": 0.5930241346359253,\\n        \"Y\": 0.23043163120746613\\n      },\\n      {\\n        \"Type\": \"leftEyeRight\",\\n        \"X\": 0.6151401996612549,\\n        \"Y\": 0.2355814427137375\\n      },\\n      {\\n        \"Type\": \"leftEyeUp\",\\n        \"X\": 0.6031553745269775,\\n        \"Y\": 0.22758209705352783\\n      },\\n      {\\n        \"Type\": \"leftEyeDown\",\\n        \"X\": 0.6031681299209595,\\n        \"Y\": 0.2368747889995575\\n      },\\n      {\\n        \"Type\": \"rightEyeLeft\",\\n        \"X\": 0.6517282724380493,\\n        \"Y\": 0.24203069508075714\\n      },\\n      {\\n        \"Type\": \"rightEyeRight\",\\n        \"X\": 0.6750907897949219,\\n        \"Y\": 0.24494507908821106\\n      },\\n      {\\n        \"Type\": \"rightEyeUp\",\\n        \"X\": 0.6639845371246338,\\n        \"Y\": 0.23831064999103546\\n      },\\n      {\\n        \"Type\": \"rightEyeDown\",\\n        \"X\": 0.6631651520729065,\\n        \"Y\": 0.2475057989358902\\n      },\\n      {\\n        \"Type\": \"noseLeft\",\\n        \"X\": 0.6159909963607788,\\n        \"Y\": 0.2975989580154419\\n      },\\n      {\\n        \"Type\": \"noseRight\",\\n        \"X\": 0.6383447051048279,\\n        \"Y\": 0.3015325665473938\\n      },\\n      {\\n        \"Type\": \"mouthUp\",\\n        \"X\": 0.6252217292785645,\\n        \"Y\": 0.3224177956581116\\n      },\\n      {\\n        \"Type\": \"mouthDown\",\\n        \"X\": 0.6238137483596802,\\n        \"Y\": 0.3518241345882416\\n      },\\n      {\\n        \"Type\": \"leftPupil\",\\n        \"X\": 0.6032518148422241,\\n        \"Y\": 0.2326071709394455\\n      },\\n      {\\n        \"Type\": \"rightPupil\",\\n        \"X\": 0.6638826727867126,\\n        \"Y\": 0.24335725605487823\\n      },\\n      {\\n        \"Type\": \"upperJawlineLeft\",\\n        \"X\": 0.5739721059799194,\\n        \"Y\": 0.23014424741268158\\n      },\\n      {\\n        \"Type\": \"midJawlineLeft\",\\n        \"X\": 0.578452467918396,\\n        \"Y\": 0.3369317352771759\\n      },\\n      {\\n        \"Type\": \"chinBottom\",\\n        \"X\": 0.6223247051239014,\\n        \"Y\": 0.40278977155685425\\n      },\\n      {\\n        \"Type\": \"midJawlineRight\",\\n        \"X\": 0.6853044033050537,\\n        \"Y\": 0.3555680513381958\\n      },\\n      {\\n        \"Type\": \"upperJawlineRight\",\\n        \"X\": 0.7058020830154419,\\n        \"Y\": 0.2529914081096649\\n      }\\n    ],\\n    \"Pose\": {\\n      \"Roll\": 4.787238597869873,\\n      \"Yaw\": -5.7556962966918945,\\n      \"Pitch\": 6.127533912658691\\n    },\\n    \"Quality\": {\\n      \"Brightness\": 84.43798065185547,\\n      \"Sharpness\": 46.02980041503906\\n    },\\n    \"Confidence\": 99.99567413330078,\\n    \"FaceOccluded\": {\\n      \"Value\": false,\\n      \"Confidence\": 99.09627532958984\\n    },\\n    \"EyeDirection\": {\\n      \"Yaw\": -3.0714619159698486,\\n      \"Pitch\": -7.915380001068115,\\n      \"Confidence\": 99.99030303955078\\n    }\\n  }\\n]'}\n"
     ]
    }
   ],
   "source": [
    "import json\n",
    "import boto3\n",
    "\n",
    "def detect_faces():\n",
    "    # initialize the Rekognition client\n",
    "    client = boto3.client('rekognition')\n",
    "    \n",
    "    # define the bucket name and file name\n",
    "    bucket_name = 'vivekp'\n",
    "    file_name = 'imgnew.jpg'\n",
    "    \n",
    "    # call the detect_faces API\n",
    "    response = client.detect_faces(\n",
    "        Image={'S3Object': {'Bucket': bucket_name, 'Name': file_name}},\n",
    "        Attributes=['ALL']\n",
    "    )\n",
    "    \n",
    "    # process the response\n",
    "    face_details = []\n",
    "    for face in response['FaceDetails']:\n",
    "        face_details.append(face)\n",
    "    \n",
    "    # now returning the results\n",
    "    return {\n",
    "        'statusCode': 200,\n",
    "        'body': json.dumps(face_details, indent=2)\n",
    "    }\n",
    "\n",
    "if __name__ == \"__main__\":\n",
    "    result = detect_faces()\n",
    "    print(result)\n"
   ]
  }
 ],
 "metadata": {
  "kernelspec": {
   "display_name": "dlproj",
   "language": "python",
   "name": "python3"
  },
  "language_info": {
   "codemirror_mode": {
    "name": "ipython",
    "version": 3
   },
   "file_extension": ".py",
   "mimetype": "text/x-python",
   "name": "python",
   "nbconvert_exporter": "python",
   "pygments_lexer": "ipython3",
   "version": "3.12.1"
  }
 },
 "nbformat": 4,
 "nbformat_minor": 2
}
