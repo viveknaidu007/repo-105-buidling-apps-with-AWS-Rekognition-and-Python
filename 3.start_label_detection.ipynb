{
 "cells": [
  {
   "cell_type": "code",
   "execution_count": null,
   "metadata": {},
   "outputs": [],
   "source": [
    "# doc:\n",
    "https://boto3.amazonaws.com/v1/documentation/api/latest/reference/services/rekognition/client/start_label_detection.html#"
   ]
  },
  {
   "cell_type": "markdown",
   "metadata": {},
   "source": [
    "    Use a UUID (Universally Unique Identifier) to generate a unique token.\n",
    "    Ensure that this token is unique for each request to avoid unintended idempotency."
   ]
  },
  {
   "cell_type": "code",
   "execution_count": null,
   "metadata": {},
   "outputs": [],
   "source": [
    "You can generate a UUID in Python using the uuid library:"
   ]
  },
  {
   "cell_type": "code",
   "execution_count": 3,
   "metadata": {},
   "outputs": [
    {
     "data": {
      "text/plain": [
       "'e4de56b4-6e9b-49ab-815e-16aaa5975b26'"
      ]
     },
     "execution_count": 3,
     "metadata": {},
     "output_type": "execute_result"
    }
   ],
   "source": [
    "import uuid\n",
    "\n",
    "client_request_token = str(uuid.uuid4())\n",
    "client_request_token"
   ]
  },
  {
   "cell_type": "code",
   "execution_count": 5,
   "metadata": {},
   "outputs": [
    {
     "name": "stdout",
     "output_type": "stream",
     "text": [
      "Started label detection job with ID: 8b5ef1a219c6f1da2d4d008b23daf2d88ce440df38e003e4d490c1170463ef4d\n",
      "{'JobId': '8b5ef1a219c6f1da2d4d008b23daf2d88ce440df38e003e4d490c1170463ef4d', 'ResponseMetadata': {'RequestId': '7e0af527-9754-4ac3-8962-37e2f889c461', 'HTTPStatusCode': 200, 'HTTPHeaders': {'x-amzn-requestid': '7e0af527-9754-4ac3-8962-37e2f889c461', 'content-type': 'application/x-amz-json-1.1', 'content-length': '76', 'date': 'Thu, 23 May 2024 09:02:16 GMT'}, 'RetryAttempts': 0}}\n"
     ]
    }
   ],
   "source": [
    "import boto3\n",
    "import json\n",
    "import time\n",
    "\n",
    "# Initialize clients\n",
    "rekognition_client = boto3.client('rekognition')\n",
    "sqs_client = boto3.client('sqs')\n",
    "\n",
    "# Configuration\n",
    "bucket_name = 'vivekp'\n",
    "video_file = 'nature.mp4'\n",
    "sns_topic_arn = 'arn:aws:sns:ap-south-1:381492233747:shot_detect'\n",
    "iam_role_arn = 'arn:aws:iam::381492233747:role/vivek_role'\n",
    "sqs_queue_url = 'https://sqs.ap-south-1.amazonaws.com/381492233747/shot_detection'\n",
    "\n",
    "# Start label detection\n",
    "response = rekognition_client.start_label_detection(\n",
    "    Video={'S3Object': {'Bucket': bucket_name, 'Name': video_file}},\n",
    "    NotificationChannel={'SNSTopicArn': sns_topic_arn, 'RoleArn': iam_role_arn},\n",
    "    JobTag='DetectingLabels'\n",
    ")\n",
    "job_id = response['JobId']\n",
    "print(f'Started label detection job with ID: {job_id}')\n",
    "\n",
    "\n",
    "print(response)"
   ]
  },
  {
   "cell_type": "code",
   "execution_count": null,
   "metadata": {},
   "outputs": [],
   "source": []
  },
  {
   "cell_type": "markdown",
   "metadata": {},
   "source": [
    "#doc:\n",
    "\n",
    "https://docs.aws.amazon.com/rekognition/latest/dg/segments.html?pg=ln&sec=ft#segment-shot-detection"
   ]
  },
  {
   "cell_type": "code",
   "execution_count": 6,
   "metadata": {},
   "outputs": [],
   "source": [
    "#reference : https://github.com/Tom-Gray/awsPython/tree/master\n",
    "\n",
    "import json\n",
    "import os\n",
    "import urllib\n",
    "\n",
    "import boto3\n",
    "\n",
    "def start_label_detection(bucket, key):\n",
    "    rekognition_client = boto3.client('rekognition')\n",
    "    response = rekognition_client.start_label_detection(\n",
    "        Video={\n",
    "            'S3Object': {\n",
    "                'Bucket': 'vivekp',\n",
    "                'Name': 'nature.mp4'\n",
    "            }\n",
    "        },\n",
    "        NotificationChannel={\n",
    "            'SNSTopicArn': 'arn:aws:sns:ap-south-1:381492233747:shot_detect',\n",
    "            'RoleArn': 'arn:aws:iam::381492233747:role/vivek_role'\n",
    "        })\n",
    "\n",
    "    print(response)\n",
    "\n",
    "    # while not done:\n",
    "    #   time.sleep(10)\n",
    "    #   done = check_job_status()\n",
    "\n",
    "    return\n",
    "\n",
    "def get_video_labels(job_id):\n",
    "    rekognition_client = boto3.client('rekognition')\n",
    "\n",
    "    response = rekognition_client.get_label_detection(JobId=job_id)\n",
    "\n",
    "    next_token = response.get('NextToken', None)\n",
    "\n",
    "    while next_token:\n",
    "        next_page = rekognition_client.get_label_detection(\n",
    "            JobId=job_id,\n",
    "            NextToken=next_token\n",
    "        )\n",
    "\n",
    "        next_token = next_page.get('NextToken', None)\n",
    "\n",
    "        response['Labels'].extend(next_page['Labels'])\n",
    "\n",
    "    return response\n",
    "\n",
    "def put_labels_in_db(data, video_name, video_bucket):\n",
    "    del data[\"ResponseMetadata\"]\n",
    "    del data[\"JobStatus\"]\n",
    "\n",
    "    data[\"VideoName\"] = video_name\n",
    "    data[\"VideoBucket\"] = video_bucket\n",
    "\n",
    "    dynamodb = boto3.resource('dynamodb')\n",
    "    table_name = os.environ['DYNAMO_DB_TABLE_NAME']\n",
    "    videos_table = dynamodb.Table(table_name)\n",
    "\n",
    "    videos_table.put_item(Item=data)\n",
    "# Lambda events\n",
    "\n",
    "def start_processing_video(event, context):\n",
    "    for record in event['Records']:\n",
    "        start_label_detection(\n",
    "            record['s3']['bucket']['name'],\n",
    "            urllib.parse.unquote_plus(record['s3']['object']['key'])\n",
    "        )\n",
    "\n",
    "\n",
    "    return\n",
    "\n",
    "def handle_label_detection(event, context):\n",
    "    for record in event['Records']:\n",
    "        message = json.loads(record['Sns']['Message'])\n",
    "        job_id = message['JobId']\n",
    "        s3_object = message['Video']['S3ObjectName']\n",
    "        s3_bucket = message['Video']['S3Bucket']\n",
    "\n",
    "        response = get_video_labels(job_id)\n",
    "        print(response)\n",
    "        put_labels_in_db(response, s3_object, s3_bucket)\n",
    "\n",
    "    return\n",
    "\n",
    "# Sample event for start_processing_video function\n",
    "sample_s3_event = {\n",
    "    'Records': [{\n",
    "        's3': {\n",
    "            'bucket': {'name': 'your-bucket-name'},\n",
    "            'object': {'key': 'your-video-file.mp4'}\n",
    "        }\n",
    "    }]\n",
    "}\n",
    "\n",
    "# Uncomment the lines below to test the functions locally\n",
    "start_processing_video(sample_s3_event, None)\n",
    "handle_label_detection(sample_sns_event, None)"
   ]
  }
 ],
 "metadata": {
  "kernelspec": {
   "display_name": "dlproj",
   "language": "python",
   "name": "python3"
  },
  "language_info": {
   "codemirror_mode": {
    "name": "ipython",
    "version": 3
   },
   "file_extension": ".py",
   "mimetype": "text/x-python",
   "name": "python",
   "nbconvert_exporter": "python",
   "pygments_lexer": "ipython3",
   "version": "3.12.1"
  }
 },
 "nbformat": 4,
 "nbformat_minor": 2
}
