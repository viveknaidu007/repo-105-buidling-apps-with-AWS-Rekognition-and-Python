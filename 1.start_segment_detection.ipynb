{
 "cells": [
  {
   "cell_type": "code",
   "execution_count": 2,
   "metadata": {},
   "outputs": [
    {
     "name": "stdout",
     "output_type": "stream",
     "text": [
      "Collecting boto3\n",
      "  Downloading boto3-1.34.110-py3-none-any.whl.metadata (6.6 kB)\n",
      "Collecting botocore<1.35.0,>=1.34.110 (from boto3)\n",
      "  Downloading botocore-1.34.110-py3-none-any.whl.metadata (5.7 kB)\n",
      "Collecting jmespath<2.0.0,>=0.7.1 (from boto3)\n",
      "  Downloading jmespath-1.0.1-py3-none-any.whl.metadata (7.6 kB)\n",
      "Collecting s3transfer<0.11.0,>=0.10.0 (from boto3)\n",
      "  Downloading s3transfer-0.10.1-py3-none-any.whl.metadata (1.7 kB)\n",
      "Requirement already satisfied: python-dateutil<3.0.0,>=2.1 in c:\\users\\poppo\\anaconda3\\envs\\dlproj\\lib\\site-packages (from botocore<1.35.0,>=1.34.110->boto3) (2.8.2)\n",
      "Requirement already satisfied: urllib3!=2.2.0,<3,>=1.25.4 in c:\\users\\poppo\\anaconda3\\envs\\dlproj\\lib\\site-packages (from botocore<1.35.0,>=1.34.110->boto3) (2.2.1)\n",
      "Requirement already satisfied: six>=1.5 in c:\\users\\poppo\\anaconda3\\envs\\dlproj\\lib\\site-packages (from python-dateutil<3.0.0,>=2.1->botocore<1.35.0,>=1.34.110->boto3) (1.16.0)\n",
      "Downloading boto3-1.34.110-py3-none-any.whl (139 kB)\n",
      "   ---------------------------------------- 0.0/139.3 kB ? eta -:--:--\n",
      "   -------- ------------------------------- 30.7/139.3 kB 1.4 MB/s eta 0:00:01\n",
      "   -------------------------- ------------- 92.2/139.3 kB 1.3 MB/s eta 0:00:01\n",
      "   ---------------------------------------- 139.3/139.3 kB 1.4 MB/s eta 0:00:00\n",
      "Downloading botocore-1.34.110-py3-none-any.whl (12.3 MB)\n",
      "   ---------------------------------------- 0.0/12.3 MB ? eta -:--:--\n",
      "   ---------------------------------------- 0.1/12.3 MB 7.5 MB/s eta 0:00:02\n",
      "   - -------------------------------------- 0.3/12.3 MB 4.3 MB/s eta 0:00:03\n",
      "   - -------------------------------------- 0.5/12.3 MB 4.2 MB/s eta 0:00:03\n",
      "   -- ------------------------------------- 0.8/12.3 MB 4.5 MB/s eta 0:00:03\n",
      "   --- ------------------------------------ 1.0/12.3 MB 4.4 MB/s eta 0:00:03\n",
      "   --- ------------------------------------ 1.2/12.3 MB 4.6 MB/s eta 0:00:03\n",
      "   ---- ----------------------------------- 1.4/12.3 MB 4.5 MB/s eta 0:00:03\n",
      "   ----- ---------------------------------- 1.7/12.3 MB 4.6 MB/s eta 0:00:03\n",
      "   ------ --------------------------------- 1.9/12.3 MB 4.6 MB/s eta 0:00:03\n",
      "   ------ --------------------------------- 2.1/12.3 MB 4.6 MB/s eta 0:00:03\n",
      "   ------- -------------------------------- 2.3/12.3 MB 4.7 MB/s eta 0:00:03\n",
      "   ------- -------------------------------- 2.3/12.3 MB 4.7 MB/s eta 0:00:03\n",
      "   ------- -------------------------------- 2.3/12.3 MB 4.7 MB/s eta 0:00:03\n",
      "   ------- -------------------------------- 2.3/12.3 MB 4.7 MB/s eta 0:00:03\n",
      "   ------- -------------------------------- 2.3/12.3 MB 4.7 MB/s eta 0:00:03\n",
      "   ---------- ----------------------------- 3.3/12.3 MB 4.7 MB/s eta 0:00:02\n",
      "   ----------- ---------------------------- 3.4/12.3 MB 4.4 MB/s eta 0:00:03\n",
      "   ----------- ---------------------------- 3.6/12.3 MB 4.4 MB/s eta 0:00:02\n",
      "   ------------ --------------------------- 3.9/12.3 MB 4.5 MB/s eta 0:00:02\n",
      "   ------------- -------------------------- 4.1/12.3 MB 4.5 MB/s eta 0:00:02\n",
      "   -------------- ------------------------- 4.3/12.3 MB 4.5 MB/s eta 0:00:02\n",
      "   -------------- ------------------------- 4.6/12.3 MB 4.5 MB/s eta 0:00:02\n",
      "   --------------- ------------------------ 4.8/12.3 MB 4.6 MB/s eta 0:00:02\n",
      "   ---------------- ----------------------- 5.0/12.3 MB 4.6 MB/s eta 0:00:02\n",
      "   ---------------- ----------------------- 5.2/12.3 MB 4.6 MB/s eta 0:00:02\n",
      "   ----------------- ---------------------- 5.4/12.3 MB 4.6 MB/s eta 0:00:02\n",
      "   ------------------ --------------------- 5.7/12.3 MB 4.6 MB/s eta 0:00:02\n",
      "   ------------------- -------------------- 5.9/12.3 MB 4.6 MB/s eta 0:00:02\n",
      "   ------------------- -------------------- 6.1/12.3 MB 4.6 MB/s eta 0:00:02\n",
      "   -------------------- ------------------- 6.3/12.3 MB 4.6 MB/s eta 0:00:02\n",
      "   --------------------- ------------------ 6.6/12.3 MB 4.7 MB/s eta 0:00:02\n",
      "   ---------------------- ----------------- 6.8/12.3 MB 4.6 MB/s eta 0:00:02\n",
      "   ---------------------- ----------------- 7.0/12.3 MB 4.6 MB/s eta 0:00:02\n",
      "   ----------------------- ---------------- 7.2/12.3 MB 4.7 MB/s eta 0:00:02\n",
      "   ------------------------ --------------- 7.4/12.3 MB 4.7 MB/s eta 0:00:02\n",
      "   ------------------------ --------------- 7.7/12.3 MB 4.7 MB/s eta 0:00:01\n",
      "   ------------------------- -------------- 7.7/12.3 MB 4.6 MB/s eta 0:00:01\n",
      "   -------------------------- ------------- 8.0/12.3 MB 4.6 MB/s eta 0:00:01\n",
      "   --------------------------- ------------ 8.3/12.3 MB 4.7 MB/s eta 0:00:01\n",
      "   --------------------------- ------------ 8.6/12.3 MB 4.7 MB/s eta 0:00:01\n",
      "   ---------------------------- ----------- 8.8/12.3 MB 4.7 MB/s eta 0:00:01\n",
      "   ----------------------------- ---------- 9.0/12.3 MB 4.7 MB/s eta 0:00:01\n",
      "   ------------------------------ --------- 9.2/12.3 MB 4.7 MB/s eta 0:00:01\n",
      "   ------------------------------ --------- 9.4/12.3 MB 4.7 MB/s eta 0:00:01\n",
      "   ------------------------------- -------- 9.7/12.3 MB 4.7 MB/s eta 0:00:01\n",
      "   -------------------------------- ------- 9.9/12.3 MB 4.7 MB/s eta 0:00:01\n",
      "   -------------------------------- ------- 10.1/12.3 MB 4.7 MB/s eta 0:00:01\n",
      "   --------------------------------- ------ 10.4/12.3 MB 4.7 MB/s eta 0:00:01\n",
      "   ---------------------------------- ----- 10.6/12.3 MB 4.7 MB/s eta 0:00:01\n",
      "   ----------------------------------- ---- 10.8/12.3 MB 4.7 MB/s eta 0:00:01\n",
      "   ----------------------------------- ---- 11.0/12.3 MB 4.8 MB/s eta 0:00:01\n",
      "   ------------------------------------ --- 11.2/12.3 MB 4.8 MB/s eta 0:00:01\n",
      "   ------------------------------------- -- 11.5/12.3 MB 4.8 MB/s eta 0:00:01\n",
      "   -------------------------------------- - 11.7/12.3 MB 4.7 MB/s eta 0:00:01\n",
      "   -------------------------------------- - 11.9/12.3 MB 4.7 MB/s eta 0:00:01\n",
      "   ---------------------------------------  12.1/12.3 MB 4.7 MB/s eta 0:00:01\n",
      "   ---------------------------------------  12.3/12.3 MB 4.7 MB/s eta 0:00:01\n",
      "   ---------------------------------------- 12.3/12.3 MB 4.7 MB/s eta 0:00:00\n",
      "Using cached jmespath-1.0.1-py3-none-any.whl (20 kB)\n",
      "Downloading s3transfer-0.10.1-py3-none-any.whl (82 kB)\n",
      "   ---------------------------------------- 0.0/82.2 kB ? eta -:--:--\n",
      "   ---------------------------------------- 82.2/82.2 kB 4.8 MB/s eta 0:00:00\n",
      "Installing collected packages: jmespath, botocore, s3transfer, boto3\n",
      "Successfully installed boto3-1.34.110 botocore-1.34.110 jmespath-1.0.1 s3transfer-0.10.1\n"
     ]
    }
   ],
   "source": [
    "!pip install boto3"
   ]
  },
  {
   "cell_type": "code",
   "execution_count": null,
   "metadata": {},
   "outputs": [],
   "source": [
    "# documentation :\n",
    "https://boto3.amazonaws.com/v1/documentation/api/latest/reference/services/rekognition.html#rekognition"
   ]
  },
  {
   "cell_type": "code",
   "execution_count": null,
   "metadata": {},
   "outputs": [],
   "source": [
    "# for \"start segmnent_detection\" : \n",
    "https://boto3.amazonaws.com/v1/documentation/api/latest/reference/services/rekognition/client/start_segment_detection.html#"
   ]
  },
  {
   "cell_type": "markdown",
   "metadata": {},
   "source": [
    "In Amazon Rekognition, start segmentation and get segmentation are operations used for video analysis. They are part of the asynchronous video processing capabilities in Amazon Rekognition, which allows you to analyze and retrieve results from video files"
   ]
  },
  {
   "cell_type": "markdown",
   "metadata": {},
   "source": [
    "Start Segmentation\n",
    "\n",
    "StartSegmentDetection is an operation that starts the asynchronous detection of segments in a stored video. Segments can include different types of scenes such as shots, black frames, color bars, end credits, and more. This operation is typically used to analyze long-form content like movies, TV shows, or sports events to detect changes and structure within the video.\n",
    "Key Points:\n",
    "\n",
    "    Initiate Analysis: It initiates the analysis of the video stored in an Amazon S3 bucket.\n",
    "    Asynchronous Operation: The operation runs asynchronously, meaning you initiate it and then periodically check for results.\n",
    "    Notification: You can specify an Amazon SNS topic to receive notifications when the segment detection is complete.\n",
    "    Parameters: You can specify the types of segments you are interested in, such as shot detection or black frame detection."
   ]
  },
  {
   "cell_type": "code",
   "execution_count": 8,
   "metadata": {},
   "outputs": [
    {
     "name": "stdout",
     "output_type": "stream",
     "text": [
      "https://sqs.ap-south-1.amazonaws.com/381492233747/shot_detection\n",
      "https://sqs.ap-south-1.amazonaws.com/381492233747/test\n"
     ]
    }
   ],
   "source": [
    "# Print out each queue name, which is part of its ARN\n",
    "for queue in sqs.queues.all():\n",
    "    print(queue.url)"
   ]
  },
  {
   "cell_type": "code",
   "execution_count": 9,
   "metadata": {},
   "outputs": [
    {
     "name": "stdout",
     "output_type": "stream",
     "text": [
      "Existing buckets:\n",
      "  vivekp\n"
     ]
    }
   ],
   "source": [
    "import boto3\n",
    "# retrieve the list of existing buckets\n",
    "s3 = boto3.client('s3')\n",
    "response = s3.list_buckets()\n",
    "\n",
    "# output the bucket names\n",
    "print('Existing buckets:')\n",
    "for bucket in response['Buckets']:\n",
    "    print(f'  {bucket[\"Name\"]}')"
   ]
  },
  {
   "cell_type": "code",
   "execution_count": null,
   "metadata": {},
   "outputs": [],
   "source": [
    "#documentation code:\n",
    "\n",
    "'''\n",
    "response = client.start_segment_detection(\n",
    "    Video={\n",
    "        'S3Object': {\n",
    "            'Bucket': 'string',\n",
    "            'Name': 'string',\n",
    "            'Version': 'string'\n",
    "        }\n",
    "    },\n",
    "    ClientRequestToken='string',\n",
    "    NotificationChannel={\n",
    "        'SNSTopicArn': 'string',\n",
    "        'RoleArn': 'string'\n",
    "    },\n",
    "    JobTag='string',\n",
    "    Filters={\n",
    "        'TechnicalCueFilter': {\n",
    "            'MinSegmentConfidence': ...,\n",
    "            'BlackFrame': {\n",
    "                'MaxPixelThreshold': ...,\n",
    "                'MinCoveragePercentage': ...\n",
    "            }\n",
    "        },\n",
    "        'ShotFilter': {\n",
    "            'MinSegmentConfidence': ...\n",
    "        }\n",
    "    },\n",
    "    SegmentTypes=[\n",
    "        'TECHNICAL_CUE'|'SHOT',\n",
    "    ]\n",
    ")\n",
    "'''"
   ]
  },
  {
   "cell_type": "code",
   "execution_count": 11,
   "metadata": {},
   "outputs": [
    {
     "name": "stdout",
     "output_type": "stream",
     "text": [
      "segment detection job started with JobId: 59eeb125cf3d10e64eccc4c160fba9edea638ace7c876761fabd93be3159b499\n"
     ]
    }
   ],
   "source": [
    "import boto3\n",
    "\n",
    "# now we intialize the boto\n",
    "rekognition_client = boto3.client('rekognition')\n",
    "\n",
    "# now parameters for the start_segment_detection call\n",
    "video = {\n",
    "    'S3Object': {\n",
    "        'Bucket': 'vivekp',        #give bucket name\n",
    "        'Name': '1 minute funny videos.mp4'    #our video name\n",
    "    }\n",
    "}\n",
    "\n",
    "notification_channel = {\n",
    "    'SNSTopicArn': 'arn:aws:sns:ap-south-1:381492233747:shot_detect',       #ur SNSs\n",
    "    'RoleArn': 'arn:aws:iam::381492233747:role/vivek_role'                  #ur role\n",
    "}\n",
    "\n",
    "filters = {\n",
    "    'TechnicalCueFilter': {\n",
    "        'MinSegmentConfidence': 70.0,\n",
    "        'BlackFrame': {\n",
    "            'MaxPixelThreshold': 0.1,\n",
    "            'MinCoveragePercentage': 99.0\n",
    "        }\n",
    "    },\n",
    "    'ShotFilter': {\n",
    "        'MinSegmentConfidence': 70.0\n",
    "    }\n",
    "}\n",
    "\n",
    "segment_types = ['SHOT']\n",
    "\n",
    "# now starting segment detection\n",
    "response = rekognition_client.start_segment_detection(\n",
    "    Video=video,\n",
    "    NotificationChannel=notification_channel,\n",
    "    Filters=filters,\n",
    "    SegmentTypes=segment_types\n",
    ")\n",
    "\n",
    "# prinitng the JobId \n",
    "print('segment detection job started with JobId:', response['JobId'])\n"
   ]
  },
  {
   "cell_type": "markdown",
   "metadata": {},
   "source": [
    "Job id is an Job identifier\n",
    "\n",
    "In the context of Amazon Rekognition, the JobId is a unique identifier assigned to each asynchronous job when it is started. This identifier is used to track the job's progress, check its status, and retrieve the results once the job is complete"
   ]
  },
  {
   "cell_type": "markdown",
   "metadata": {},
   "source": []
  },
  {
   "cell_type": "markdown",
   "metadata": {},
   "source": []
  }
 ],
 "metadata": {
  "kernelspec": {
   "display_name": "dlproj",
   "language": "python",
   "name": "python3"
  },
  "language_info": {
   "codemirror_mode": {
    "name": "ipython",
    "version": 3
   },
   "file_extension": ".py",
   "mimetype": "text/x-python",
   "name": "python",
   "nbconvert_exporter": "python",
   "pygments_lexer": "ipython3",
   "version": "3.12.1"
  }
 },
 "nbformat": 4,
 "nbformat_minor": 2
}
