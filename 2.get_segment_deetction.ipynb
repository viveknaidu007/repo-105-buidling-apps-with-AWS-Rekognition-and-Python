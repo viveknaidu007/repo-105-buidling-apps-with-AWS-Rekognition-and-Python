{
 "cells": [
  {
   "cell_type": "markdown",
   "metadata": {},
   "source": [
    "Get Segmentation\n",
    "\n",
    "GetSegmentDetection is an operation that retrieves the results of the segment detection started by StartSegmentDetection. It allows you to get the detected segments, their types, and timestamps.\n",
    "Key Points:\n",
    "\n",
    "    Retrieve Results: It retrieves the segment detection results for a given job.\n",
    "    Paginated Results: The results can be paginated if the video is long or if there are many segments.\n",
    "    Job ID: You need to provide the Job ID that was returned by the StartSegmentDetection operation."
   ]
  },
  {
   "cell_type": "code",
   "execution_count": 1,
   "metadata": {},
   "outputs": [
    {
     "name": "stdout",
     "output_type": "stream",
     "text": [
      "Job status: IN_PROGRESS. Waiting for completion...\n",
      "Segment detection results:\n",
      "{'Type': 'SHOT', 'StartTimestampMillis': 0, 'EndTimestampMillis': 4120, 'DurationMillis': 4120, 'StartTimecodeSMPTE': '00:00:00:00', 'EndTimecodeSMPTE': '00:00:04:03', 'DurationSMPTE': '00:00:04:03', 'ShotSegment': {'Index': 0, 'Confidence': 99.32784271240234}, 'StartFrameNumber': 0, 'EndFrameNumber': 103, 'DurationFrames': 103}\n",
      "{'Type': 'SHOT', 'StartTimestampMillis': 4160, 'EndTimestampMillis': 5160, 'DurationMillis': 1000, 'StartTimecodeSMPTE': '00:00:04:04', 'EndTimecodeSMPTE': '00:00:05:04', 'DurationSMPTE': '00:00:01:00', 'ShotSegment': {'Index': 1, 'Confidence': 99.32784271240234}, 'StartFrameNumber': 104, 'EndFrameNumber': 129, 'DurationFrames': 25}\n",
      "{'Type': 'SHOT', 'StartTimestampMillis': 5200, 'EndTimestampMillis': 7960, 'DurationMillis': 2760, 'StartTimecodeSMPTE': '00:00:05:05', 'EndTimecodeSMPTE': '00:00:07:24', 'DurationSMPTE': '00:00:02:19', 'ShotSegment': {'Index': 2, 'Confidence': 96.14018249511719}, 'StartFrameNumber': 130, 'EndFrameNumber': 199, 'DurationFrames': 69}\n",
      "{'Type': 'SHOT', 'StartTimestampMillis': 8000, 'EndTimestampMillis': 13840, 'DurationMillis': 5840, 'StartTimecodeSMPTE': '00:00:08:00', 'EndTimecodeSMPTE': '00:00:13:21', 'DurationSMPTE': '00:00:05:21', 'ShotSegment': {'Index': 3, 'Confidence': 96.14018249511719}, 'StartFrameNumber': 200, 'EndFrameNumber': 346, 'DurationFrames': 146}\n",
      "{'Type': 'SHOT', 'StartTimestampMillis': 13880, 'EndTimestampMillis': 16200, 'DurationMillis': 2320, 'StartTimecodeSMPTE': '00:00:13:22', 'EndTimecodeSMPTE': '00:00:16:05', 'DurationSMPTE': '00:00:02:08', 'ShotSegment': {'Index': 4, 'Confidence': 99.90319061279297}, 'StartFrameNumber': 347, 'EndFrameNumber': 405, 'DurationFrames': 58}\n",
      "{'Type': 'SHOT', 'StartTimestampMillis': 16240, 'EndTimestampMillis': 17720, 'DurationMillis': 1480, 'StartTimecodeSMPTE': '00:00:16:06', 'EndTimecodeSMPTE': '00:00:17:18', 'DurationSMPTE': '00:00:01:12', 'ShotSegment': {'Index': 5, 'Confidence': 99.29644012451172}, 'StartFrameNumber': 406, 'EndFrameNumber': 443, 'DurationFrames': 37}\n",
      "{'Type': 'SHOT', 'StartTimestampMillis': 17760, 'EndTimestampMillis': 19320, 'DurationMillis': 1560, 'StartTimecodeSMPTE': '00:00:17:19', 'EndTimecodeSMPTE': '00:00:19:08', 'DurationSMPTE': '00:00:01:14', 'ShotSegment': {'Index': 6, 'Confidence': 99.29644012451172}, 'StartFrameNumber': 444, 'EndFrameNumber': 483, 'DurationFrames': 39}\n",
      "{'Type': 'SHOT', 'StartTimestampMillis': 19360, 'EndTimestampMillis': 20760, 'DurationMillis': 1400, 'StartTimecodeSMPTE': '00:00:19:09', 'EndTimecodeSMPTE': '00:00:20:19', 'DurationSMPTE': '00:00:01:10', 'ShotSegment': {'Index': 7, 'Confidence': 97.56631469726562}, 'StartFrameNumber': 484, 'EndFrameNumber': 519, 'DurationFrames': 35}\n",
      "{'Type': 'SHOT', 'StartTimestampMillis': 20800, 'EndTimestampMillis': 27040, 'DurationMillis': 6240, 'StartTimecodeSMPTE': '00:00:20:20', 'EndTimecodeSMPTE': '00:00:27:01', 'DurationSMPTE': '00:00:06:06', 'ShotSegment': {'Index': 8, 'Confidence': 97.56631469726562}, 'StartFrameNumber': 520, 'EndFrameNumber': 676, 'DurationFrames': 156}\n",
      "{'Type': 'SHOT', 'StartTimestampMillis': 27080, 'EndTimestampMillis': 28800, 'DurationMillis': 1720, 'StartTimecodeSMPTE': '00:00:27:02', 'EndTimecodeSMPTE': '00:00:28:20', 'DurationSMPTE': '00:00:01:18', 'ShotSegment': {'Index': 9, 'Confidence': 84.52841186523438}, 'StartFrameNumber': 677, 'EndFrameNumber': 720, 'DurationFrames': 43}\n",
      "{'Type': 'SHOT', 'StartTimestampMillis': 28840, 'EndTimestampMillis': 35400, 'DurationMillis': 6560, 'StartTimecodeSMPTE': '00:00:28:21', 'EndTimecodeSMPTE': '00:00:35:10', 'DurationSMPTE': '00:00:06:14', 'ShotSegment': {'Index': 10, 'Confidence': 84.52841186523438}, 'StartFrameNumber': 721, 'EndFrameNumber': 885, 'DurationFrames': 164}\n",
      "{'Type': 'SHOT', 'StartTimestampMillis': 35440, 'EndTimestampMillis': 36840, 'DurationMillis': 1400, 'StartTimecodeSMPTE': '00:00:35:11', 'EndTimecodeSMPTE': '00:00:36:21', 'DurationSMPTE': '00:00:01:10', 'ShotSegment': {'Index': 11, 'Confidence': 78.45159912109375}, 'StartFrameNumber': 886, 'EndFrameNumber': 921, 'DurationFrames': 35}\n",
      "{'Type': 'SHOT', 'StartTimestampMillis': 36880, 'EndTimestampMillis': 37640, 'DurationMillis': 760, 'StartTimecodeSMPTE': '00:00:36:22', 'EndTimecodeSMPTE': '00:00:37:16', 'DurationSMPTE': '00:00:00:19', 'ShotSegment': {'Index': 12, 'Confidence': 75.36211395263672}, 'StartFrameNumber': 922, 'EndFrameNumber': 941, 'DurationFrames': 19}\n",
      "{'Type': 'SHOT', 'StartTimestampMillis': 37680, 'EndTimestampMillis': 38800, 'DurationMillis': 1120, 'StartTimecodeSMPTE': '00:00:37:17', 'EndTimecodeSMPTE': '00:00:38:20', 'DurationSMPTE': '00:00:01:03', 'ShotSegment': {'Index': 13, 'Confidence': 75.36211395263672}, 'StartFrameNumber': 942, 'EndFrameNumber': 970, 'DurationFrames': 28}\n",
      "{'Type': 'SHOT', 'StartTimestampMillis': 38840, 'EndTimestampMillis': 40880, 'DurationMillis': 2040, 'StartTimecodeSMPTE': '00:00:38:21', 'EndTimecodeSMPTE': '00:00:40:22', 'DurationSMPTE': '00:00:02:01', 'ShotSegment': {'Index': 14, 'Confidence': 80.0593490600586}, 'StartFrameNumber': 971, 'EndFrameNumber': 1022, 'DurationFrames': 51}\n",
      "{'Type': 'SHOT', 'StartTimestampMillis': 40920, 'EndTimestampMillis': 43960, 'DurationMillis': 3040, 'StartTimecodeSMPTE': '00:00:40:23', 'EndTimecodeSMPTE': '00:00:43:24', 'DurationSMPTE': '00:00:03:01', 'ShotSegment': {'Index': 15, 'Confidence': 82.75041961669922}, 'StartFrameNumber': 1023, 'EndFrameNumber': 1099, 'DurationFrames': 76}\n",
      "{'Type': 'SHOT', 'StartTimestampMillis': 44000, 'EndTimestampMillis': 45160, 'DurationMillis': 1160, 'StartTimecodeSMPTE': '00:00:44:00', 'EndTimecodeSMPTE': '00:00:45:04', 'DurationSMPTE': '00:00:01:04', 'ShotSegment': {'Index': 16, 'Confidence': 82.75041961669922}, 'StartFrameNumber': 1100, 'EndFrameNumber': 1129, 'DurationFrames': 29}\n",
      "{'Type': 'SHOT', 'StartTimestampMillis': 45200, 'EndTimestampMillis': 51080, 'DurationMillis': 5880, 'StartTimecodeSMPTE': '00:00:45:05', 'EndTimecodeSMPTE': '00:00:51:02', 'DurationSMPTE': '00:00:05:22', 'ShotSegment': {'Index': 17, 'Confidence': 86.4466781616211}, 'StartFrameNumber': 1130, 'EndFrameNumber': 1277, 'DurationFrames': 147}\n",
      "{'Type': 'SHOT', 'StartTimestampMillis': 51120, 'EndTimestampMillis': 59960, 'DurationMillis': 8840, 'StartTimecodeSMPTE': '00:00:51:03', 'EndTimecodeSMPTE': '00:00:59:24', 'DurationSMPTE': '00:00:08:21', 'ShotSegment': {'Index': 18, 'Confidence': 99.99115753173828}, 'StartFrameNumber': 1278, 'EndFrameNumber': 1499, 'DurationFrames': 221}\n"
     ]
    }
   ],
   "source": [
    "import boto3\n",
    "import time\n",
    "\n",
    "# initialize the Rekognition client\n",
    "rekognition_client = boto3.client('rekognition')\n",
    "\n",
    "# replace with your JobId from start_segment_detection\n",
    "job_id = '59eeb125cf3d10e64eccc4c160fba9edea638ace7c876761fabd93be3159b499'   #we ahve replace our Job id which we got\n",
    "\n",
    "# Function to get the segment detection results\n",
    "def get_segment_detection_results(job_id, max_results=1000):\n",
    "    next_token = None\n",
    "    segments = []\n",
    "\n",
    "    while True:\n",
    "        # Call get_segment_detection\n",
    "        if next_token:\n",
    "            response = rekognition_client.get_segment_detection(\n",
    "                JobId=job_id,\n",
    "                MaxResults=max_results,\n",
    "                NextToken=next_token\n",
    "            )\n",
    "        else:\n",
    "            response = rekognition_client.get_segment_detection(\n",
    "                JobId=job_id,\n",
    "                MaxResults=max_results\n",
    "            )\n",
    "        \n",
    "        # checking job status\n",
    "        job_status = response['JobStatus']\n",
    "        if job_status == 'SUCCEEDED':\n",
    "            # Append segments to the list\n",
    "            segments.extend(response['Segments'])\n",
    "            \n",
    "            # Check if there are more results to retrieve\n",
    "            next_token = response.get('NextToken')\n",
    "            if not next_token:\n",
    "                break\n",
    "        elif job_status == 'FAILED':\n",
    "            raise Exception(f'Segment detection job failed: {response.get(\"StatusMessage\")}')\n",
    "        else:\n",
    "            print(f'Job status: {job_status}. Waiting for completion...')\n",
    "            time.sleep(10)  # Wait before checking the status again\n",
    "\n",
    "    return segments\n",
    "\n",
    "# retrieve the segment detection results\n",
    "try:\n",
    "    segments = get_segment_detection_results(job_id)\n",
    "    print('Segment detection results:')\n",
    "    for segment in segments:\n",
    "        print(segment)\n",
    "except Exception as e:\n",
    "    print(e)\n"
   ]
  },
  {
   "cell_type": "code",
   "execution_count": null,
   "metadata": {},
   "outputs": [],
   "source": [
    "#Aim:\n",
    "\n",
    "# when we r straming any video , and we will stop and upload the video .\n",
    "# 1 minute - info , 2- minute -info , 3 - minute - info\n",
    "# "
   ]
  }
 ],
 "metadata": {
  "kernelspec": {
   "display_name": "dlproj",
   "language": "python",
   "name": "python3"
  },
  "language_info": {
   "codemirror_mode": {
    "name": "ipython",
    "version": 3
   },
   "file_extension": ".py",
   "mimetype": "text/x-python",
   "name": "python",
   "nbconvert_exporter": "python",
   "pygments_lexer": "ipython3",
   "version": "3.12.1"
  }
 },
 "nbformat": 4,
 "nbformat_minor": 2
}
